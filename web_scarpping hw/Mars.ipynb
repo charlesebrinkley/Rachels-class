{
 "cells": [
  {
   "cell_type": "code",
   "execution_count": 1,
   "metadata": {},
   "outputs": [],
   "source": [
    "from bs4 import BeautifulSoup as bs\n",
    "import requests\n",
    "\n",
    "response = requests.get('https://mars.nasa.gov/news/').text\n",
    "\n",
    "soup = bs(response, 'lxml')\n"
   ]
  },
  {
   "cell_type": "code",
   "execution_count": 2,
   "metadata": {},
   "outputs": [
    {
     "data": {
      "text/html": [
       "<div>\n",
       "<style scoped>\n",
       "    .dataframe tbody tr th:only-of-type {\n",
       "        vertical-align: middle;\n",
       "    }\n",
       "\n",
       "    .dataframe tbody tr th {\n",
       "        vertical-align: top;\n",
       "    }\n",
       "\n",
       "    .dataframe thead th {\n",
       "        text-align: right;\n",
       "    }\n",
       "</style>\n",
       "<table border=\"1\" class=\"dataframe\">\n",
       "  <thead>\n",
       "    <tr style=\"text-align: right;\">\n",
       "      <th></th>\n",
       "      <th>title</th>\n",
       "      <th>body</th>\n",
       "    </tr>\n",
       "  </thead>\n",
       "  <tbody>\n",
       "    <tr>\n",
       "      <th>0</th>\n",
       "      <td>NASA's Mars 2020 Rover Closer to Getting Its Name</td>\n",
       "      <td>155 students from across the U.S. have been ch...</td>\n",
       "    </tr>\n",
       "    <tr>\n",
       "      <th>1</th>\n",
       "      <td>NASA Invites Students to Name Mars 2020 Rover</td>\n",
       "      <td>Through Nov. 1, K-12 students in the U.S. are ...</td>\n",
       "    </tr>\n",
       "    <tr>\n",
       "      <th>2</th>\n",
       "      <td>NASA's Curiosity Mars Rover Finds a Clay Cache</td>\n",
       "      <td>The rover recently drilled two samples, and bo...</td>\n",
       "    </tr>\n",
       "    <tr>\n",
       "      <th>3</th>\n",
       "      <td>Why This Martian Full Moon Looks Like Candy</td>\n",
       "      <td>For the first time, NASA's Mars Odyssey orbite...</td>\n",
       "    </tr>\n",
       "    <tr>\n",
       "      <th>4</th>\n",
       "      <td>NASA Garners 7 Webby Award Nominations</td>\n",
       "      <td>Nominees include four JPL projects: the solar ...</td>\n",
       "    </tr>\n",
       "    <tr>\n",
       "      <th>5</th>\n",
       "      <td>NASA's Opportunity Rover Mission on Mars Comes...</td>\n",
       "      <td>NASA's Opportunity Mars rover mission is compl...</td>\n",
       "    </tr>\n",
       "  </tbody>\n",
       "</table>\n",
       "</div>"
      ],
      "text/plain": [
       "                                               title  \\\n",
       "0  NASA's Mars 2020 Rover Closer to Getting Its Name   \n",
       "1      NASA Invites Students to Name Mars 2020 Rover   \n",
       "2     NASA's Curiosity Mars Rover Finds a Clay Cache   \n",
       "3        Why This Martian Full Moon Looks Like Candy   \n",
       "4             NASA Garners 7 Webby Award Nominations   \n",
       "5  NASA's Opportunity Rover Mission on Mars Comes...   \n",
       "\n",
       "                                                body  \n",
       "0  155 students from across the U.S. have been ch...  \n",
       "1  Through Nov. 1, K-12 students in the U.S. are ...  \n",
       "2  The rover recently drilled two samples, and bo...  \n",
       "3  For the first time, NASA's Mars Odyssey orbite...  \n",
       "4  Nominees include four JPL projects: the solar ...  \n",
       "5  NASA's Opportunity Mars rover mission is compl...  "
      ]
     },
     "execution_count": 2,
     "metadata": {},
     "output_type": "execute_result"
    }
   ],
   "source": [
    "#NASA Mars News ALL\n",
    "import pandas as pd\n",
    "\n",
    "news =[]\n",
    "\n",
    "for result in soup.find_all('div', class_ =\"slide\"):\n",
    "    body = result.find('div', class_ = 'rollover_description_inner').text\n",
    "    \n",
    "    title = result.find('div', class_ = 'content_title').text\n",
    "        \n",
    "    news.append({'title':title.replace(\"\\n\", \"\"), 'body':body.replace(\"\\n\", \"\")})\n",
    "    \n",
    "\n",
    "    \n",
    "df_news = pd.DataFrame(news)\n",
    "\n",
    "df_news = df_news[['title','body']]\n",
    "\n",
    "df_news\n",
    "\n",
    "    "
   ]
  },
  {
   "cell_type": "code",
   "execution_count": 3,
   "metadata": {},
   "outputs": [
    {
     "name": "stdout",
     "output_type": "stream",
     "text": [
      "\n",
      "\n",
      "NASA's Mars 2020 Rover Closer to Getting Its Name\n",
      "\n",
      " \n",
      "155 students from across the U.S. have been chosen as semifinalists in NASA's essay contest to name the Mars 2020 rover, and see it launch from Cape Canaveral this July.\n",
      "\n"
     ]
    }
   ],
   "source": [
    "#NASA Mars News MOST Current\n",
    "import pandas as pd\n",
    "\n",
    "news_title = soup.find('div', class_ = 'content_title').text\n",
    "\n",
    "news_p = soup.find('div', class_ = 'rollover_description_inner').text\n",
    "    \n",
    "print(news_title,news_p)\n",
    "\n"
   ]
  },
  {
   "cell_type": "code",
   "execution_count": 4,
   "metadata": {},
   "outputs": [
    {
     "name": "stdout",
     "output_type": "stream",
     "text": [
      "https://www.jpl.nasa.gov/spaceimages/images/largesize/PIA16225_hires.jpg\n"
     ]
    }
   ],
   "source": [
    "#JPL Mars Space Image url\n",
    "from splinter import Browser\n",
    "\n",
    "executable_path = {'executable_path':'chromedriver.exe'}\n",
    "\n",
    "browser = Browser('chrome', **executable_path)\n",
    "\n",
    "url = 'https://www.jpl.nasa.gov/spaceimages/?search=&catagory=Mars'\n",
    "\n",
    "browser.visit(url)\n",
    "\n",
    "browser.find_by_css('footer').click()\n",
    "\n",
    "browser.find_by_xpath('//*[@id=\"fancybox-lock\"]/div/div[2]/div/div[1]/a[2]').click()\n",
    "\n",
    "browser.find_by_css('figure').click()\n",
    "\n",
    "featured_image_url = browser.url\n",
    "\n",
    "print(featured_image_url)\n",
    "\n",
    "browser.quit()"
   ]
  },
  {
   "cell_type": "code",
   "execution_count": 6,
   "metadata": {},
   "outputs": [
    {
     "name": "stdout",
     "output_type": "stream",
     "text": [
      "sol 411 (2020-01-22) low -96.4ºC (-141.4ºF) high -16.7ºC (1.9ºF)\n",
      "winds from the S at 5.6 m/s (12.6 mph) gusting to 22.7 m/s (50.8 mph)\n",
      "pressure at 6.30 hPa\n"
     ]
    }
   ],
   "source": [
    "#Mars Weather from twitter\n",
    "executable_path = {'executable_path':'chromedriver.exe'}\n",
    "\n",
    "browser = Browser('chrome', **executable_path)\n",
    "\n",
    "url = 'https://twitter.com/marswxreport?lang=en'\n",
    "\n",
    "browser.visit(url)\n",
    "\n",
    "response = requests.get('https://twitter.com/marswxreport?lang=en').text\n",
    "\n",
    "soup = bs(response, 'lxml')\n",
    "\n",
    "num = 1\n",
    "\n",
    "for result in soup.find_all('p', class_ =\"tweet-text\"):\n",
    "    result = str(result)\n",
    "    \n",
    "    if \"InSight\" in result:\n",
    "        start = 'InSight '\n",
    "        end = '<a'   \n",
    "        mars_weather = (result[result.find(start)+len(start):result.rfind(end)])\n",
    "        print(mars_weather)\n",
    "        break\n",
    "    else:\n",
    "        num = num + 1\n",
    "        if num > 20:\n",
    "            break\n",
    "            \n",
    "browser.quit()"
   ]
  },
  {
   "cell_type": "code",
   "execution_count": 7,
   "metadata": {},
   "outputs": [
    {
     "name": "stdout",
     "output_type": "stream",
     "text": [
      "<table border=\"1\" class=\"dataframe marsdata\">   <thead>     <tr style=\"text-align: right;\">       <th></th>       <th>Data</th>     </tr>     <tr>       <th>Mars</th>       <th></th>     </tr>   </thead>   <tbody>     <tr>       <th>Equatorial Diameter:</th>       <td>6,792 km</td>     </tr>     <tr>       <th>Polar Diameter:</th>       <td>6,752 km</td>     </tr>     <tr>       <th>Mass:</th>       <td>6.39 × 10^23 kg (0.11 Earths)</td>     </tr>     <tr>       <th>Moons:</th>       <td>2 (Phobos &amp; Deimos)</td>     </tr>     <tr>       <th>Orbit Distance:</th>       <td>227,943,824 km (1.38 AU)</td>     </tr>     <tr>       <th>Orbit Period:</th>       <td>687 days (1.9 years)</td>     </tr>     <tr>       <th>Surface Temperature:</th>       <td>-87 to -5 °C</td>     </tr>     <tr>       <th>First Record:</th>       <td>2nd millennium BC</td>     </tr>     <tr>       <th>Recorded By:</th>       <td>Egyptian astronomers</td>     </tr>   </tbody> </table>\n"
     ]
    }
   ],
   "source": [
    "# Visit the Mars facts webpage and scrape table data into Pandas\n",
    "from splinter import Browser\n",
    "import pandas as pd \n",
    "import time\n",
    "\n",
    "executable_path = {'executable_path':'chromedriver.exe'}\n",
    "\n",
    "browser = Browser('chrome', **executable_path)\n",
    "\n",
    "url = 'https://space-facts.com/mars/'\n",
    "\n",
    "browser.visit(url)\n",
    "\n",
    "# place data into a dataframe output to an HTML string\n",
    "grab=pd.read_html(url)\n",
    "df_mars_data=pd.DataFrame(grab[0])\n",
    "df_mars_data.columns=['Mars','Data']\n",
    "df_mars_table=df_mars_data.set_index(\"Mars\")\n",
    "marsdata_html = df_mars_table.to_html(classes='marsdata')\n",
    "marsdata_html=marsdata_html.replace('\\n', ' ')\n",
    "\n",
    "print(marsdata_html)\n",
    "\n",
    "browser.quit()\n"
   ]
  },
  {
   "cell_type": "code",
   "execution_count": 8,
   "metadata": {},
   "outputs": [],
   "source": [
    "#Mars Hemisphers\n",
    "from splinter import Browser\n",
    "import pandas as pd \n",
    "import time\n",
    "\n",
    "executable_path = {'executable_path':'chromedriver.exe'}\n",
    "\n",
    "browser = Browser('chrome', **executable_path)\n",
    "\n",
    "url = 'https://astrogeology.usgs.gov/search/results?q=hemisphere+enhanced&k1=target&v1=Mars'\n",
    "\n",
    "browser.visit(url)\n",
    "\n",
    "mars_hemis=[]\n",
    "\n",
    "\n",
    "for i in range (4):\n",
    "    time.sleep(5)\n",
    "    images = browser.find_by_tag('h3')\n",
    "    images[i].click()\n",
    "    new_url = browser.url\n",
    "    response = requests.get(new_url).text\n",
    "    soup = bs(response, 'lxml')\n",
    "    partial = soup.find(\"img\", class_=\"wide-image\")[\"src\"]\n",
    "    img_title = soup.find(\"h2\",class_=\"title\").text\n",
    "    img_url = 'https://astrogeology.usgs.gov'+ partial\n",
    "    dictionary={\"title\":img_title,\"img_url\":img_url}\n",
    "    mars_hemis.append(dictionary)\n",
    "    browser.back()\n",
    "   \n"
   ]
  },
  {
   "cell_type": "code",
   "execution_count": 9,
   "metadata": {},
   "outputs": [
    {
     "name": "stdout",
     "output_type": "stream",
     "text": [
      "[{'title': 'Cerberus Hemisphere Enhanced', 'img_url': 'https://astrogeology.usgs.gov/cache/images/cfa62af2557222a02478f1fcd781d445_cerberus_enhanced.tif_full.jpg'}, {'title': 'Schiaparelli Hemisphere Enhanced', 'img_url': 'https://astrogeology.usgs.gov/cache/images/3cdd1cbf5e0813bba925c9030d13b62e_schiaparelli_enhanced.tif_full.jpg'}, {'title': 'Syrtis Major Hemisphere Enhanced', 'img_url': 'https://astrogeology.usgs.gov/cache/images/ae209b4e408bb6c3e67b6af38168cf28_syrtis_major_enhanced.tif_full.jpg'}, {'title': 'Valles Marineris Hemisphere Enhanced', 'img_url': 'https://astrogeology.usgs.gov/cache/images/7cf2da4bf549ed01c17f206327be4db7_valles_marineris_enhanced.tif_full.jpg'}]\n"
     ]
    }
   ],
   "source": [
    "print(mars_hemis)"
   ]
  },
  {
   "cell_type": "code",
   "execution_count": null,
   "metadata": {},
   "outputs": [],
   "source": []
  }
 ],
 "metadata": {
  "kernelspec": {
   "display_name": "Python 3",
   "language": "python",
   "name": "python3"
  },
  "language_info": {
   "codemirror_mode": {
    "name": "ipython",
    "version": 3
   },
   "file_extension": ".py",
   "mimetype": "text/x-python",
   "name": "python",
   "nbconvert_exporter": "python",
   "pygments_lexer": "ipython3",
   "version": "3.7.3"
  }
 },
 "nbformat": 4,
 "nbformat_minor": 4
}
